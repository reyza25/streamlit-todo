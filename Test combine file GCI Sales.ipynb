{
 "cells": [
  {
   "cell_type": "code",
   "execution_count": 3,
   "id": "f621822d-4918-494b-bb53-74e8b48d60a8",
   "metadata": {},
   "outputs": [],
   "source": [
    "import pandas as pd\n",
    "import openpyxl"
   ]
  },
  {
   "cell_type": "code",
   "execution_count": 6,
   "id": "070c655e-1530-4174-b133-51a809dcdc9e",
   "metadata": {},
   "outputs": [
    {
     "name": "stderr",
     "output_type": "stream",
     "text": [
      "C:\\Users\\rayza.rochmat\\PycharmProjects\\pythonProject\\.venv\\lib\\site-packages\\openpyxl\\styles\\stylesheet.py:237: UserWarning: Workbook contains no default style, apply openpyxl's default\n",
      "  warn(\"Workbook contains no default style, apply openpyxl's default\")\n",
      "C:\\Users\\rayza.rochmat\\PycharmProjects\\pythonProject\\.venv\\lib\\site-packages\\openpyxl\\styles\\stylesheet.py:237: UserWarning: Workbook contains no default style, apply openpyxl's default\n",
      "  warn(\"Workbook contains no default style, apply openpyxl's default\")\n"
     ]
    }
   ],
   "source": [
    "# Path ke file Excel pertama dan kedua\n",
    "file1_path = r'G:\\Test Gci\\1501_MTD_01_11_Sep_2024.xlsx'\n",
    "file2_path = r'G:\\Test Gci\\1502_MTD_01_11_Sep_2024.xlsx'\n",
    "\n",
    "# Baca kedua file Excel ke dalam DataFrame\n",
    "df1 = pd.read_excel(file1_path,sheet_name='DETAIL')\n",
    "df2 = pd.read_excel(file2_path,sheet_name='DETAIL')\n"
   ]
  },
  {
   "cell_type": "code",
   "execution_count": 11,
   "id": "8d679e08-7d9b-4ec5-a65e-d751a4f104ee",
   "metadata": {},
   "outputs": [],
   "source": [
    "df1_filtered = df1[df1['TGL_SALES'].notna() & (df1['TGL_SALES'] !='')]\n",
    "df1_filtered_not = df1_filtered[~df1_filtered['TGL_SALES'].str.contains('generate', case=False)]"
   ]
  },
  {
   "cell_type": "code",
   "execution_count": 12,
   "id": "3f3b18eb-5def-4e99-8a33-894f60a5c47e",
   "metadata": {},
   "outputs": [],
   "source": [
    "df2_filtered = df2[df2['TGL_SALES'].notna() & (df2['TGL_SALES'] !='')]\n",
    "df2_filtered_not = df2_filtered[~df2_filtered['TGL_SALES'].str.contains('generate', case=False)]"
   ]
  },
  {
   "cell_type": "code",
   "execution_count": 13,
   "id": "bc811b0b-277a-4219-8dac-c76013fe31ae",
   "metadata": {},
   "outputs": [],
   "source": [
    "\n",
    "combined_df = pd.concat([df1_filtered_not,df2_filtered_not], ignore_index=True)\n"
   ]
  },
  {
   "cell_type": "code",
   "execution_count": 15,
   "id": "7ea550d0-66e8-47a6-8df2-2726fbb8d4f7",
   "metadata": {},
   "outputs": [],
   "source": [
    "\n",
    "output_file_path =  r'G:\\Test Gci\\Gci YTD.xlsx'\n",
    "\n",
    "\n",
    "combined_df.to_excel(output_file_path, index=False)\n",
    "\n"
   ]
  },
  {
   "cell_type": "code",
   "execution_count": null,
   "id": "61f4ce1f-c30c-4b49-854f-e621aea31b28",
   "metadata": {},
   "outputs": [],
   "source": []
  }
 ],
 "metadata": {
  "kernelspec": {
   "display_name": "Python 3 (ipykernel)",
   "language": "python",
   "name": "python3"
  },
  "language_info": {
   "codemirror_mode": {
    "name": "ipython",
    "version": 3
   },
   "file_extension": ".py",
   "mimetype": "text/x-python",
   "name": "python",
   "nbconvert_exporter": "python",
   "pygments_lexer": "ipython3",
   "version": "3.9.1"
  }
 },
 "nbformat": 4,
 "nbformat_minor": 5
}
