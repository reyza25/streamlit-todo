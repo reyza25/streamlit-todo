{
 "cells": [
  {
   "cell_type": "code",
   "execution_count": 1,
   "id": "f621822d-4918-494b-bb53-74e8b48d60a8",
   "metadata": {
    "execution": {
     "iopub.execute_input": "2024-09-12T08:35:05.730607Z",
     "iopub.status.busy": "2024-09-12T08:35:05.730607Z",
     "iopub.status.idle": "2024-09-12T08:35:12.568150Z",
     "shell.execute_reply": "2024-09-12T08:35:12.568150Z"
    },
    "papermill": {
     "duration": 6.842525,
     "end_time": "2024-09-12T08:35:12.570140",
     "exception": false,
     "start_time": "2024-09-12T08:35:05.727615",
     "status": "completed"
    },
    "tags": []
   },
   "outputs": [],
   "source": [
    "import pandas as pd\n",
    "import openpyxl"
   ]
  },
  {
   "cell_type": "code",
   "execution_count": 2,
   "id": "070c655e-1530-4174-b133-51a809dcdc9e",
   "metadata": {
    "execution": {
     "iopub.execute_input": "2024-09-12T08:35:12.592113Z",
     "iopub.status.busy": "2024-09-12T08:35:12.592113Z",
     "iopub.status.idle": "2024-09-12T08:35:14.988129Z",
     "shell.execute_reply": "2024-09-12T08:35:14.988129Z"
    },
    "papermill": {
     "duration": 2.398999,
     "end_time": "2024-09-12T08:35:14.989086",
     "exception": false,
     "start_time": "2024-09-12T08:35:12.590087",
     "status": "completed"
    },
    "tags": []
   },
   "outputs": [
    {
     "name": "stderr",
     "output_type": "stream",
     "text": [
      "C:\\Users\\rayza.rochmat\\PycharmProjects\\pythonProject\\.venv\\lib\\site-packages\\openpyxl\\styles\\stylesheet.py:237: UserWarning: Workbook contains no default style, apply openpyxl's default\n",
      "  warn(\"Workbook contains no default style, apply openpyxl's default\")\n"
     ]
    },
    {
     "name": "stderr",
     "output_type": "stream",
     "text": [
      "C:\\Users\\rayza.rochmat\\PycharmProjects\\pythonProject\\.venv\\lib\\site-packages\\openpyxl\\styles\\stylesheet.py:237: UserWarning: Workbook contains no default style, apply openpyxl's default\n",
      "  warn(\"Workbook contains no default style, apply openpyxl's default\")\n"
     ]
    }
   ],
   "source": [
    "# Path ke file Excel pertama dan kedua\n",
    "file1_path = r'G:\\Test Gci\\1501_MTD_01_11_Sep_2024.xlsx'\n",
    "file2_path = r'G:\\Test Gci\\1502_MTD_01_11_Sep_2024.xlsx'\n",
    "\n",
    "# Baca kedua file Excel ke dalam DataFrame\n",
    "df1 = pd.read_excel(file1_path,sheet_name='DETAIL')\n",
    "df2 = pd.read_excel(file2_path,sheet_name='DETAIL')\n"
   ]
  },
  {
   "cell_type": "code",
   "execution_count": 3,
   "id": "8d679e08-7d9b-4ec5-a65e-d751a4f104ee",
   "metadata": {
    "execution": {
     "iopub.execute_input": "2024-09-12T08:35:14.993075Z",
     "iopub.status.busy": "2024-09-12T08:35:14.993075Z",
     "iopub.status.idle": "2024-09-12T08:35:15.058448Z",
     "shell.execute_reply": "2024-09-12T08:35:15.058448Z"
    },
    "papermill": {
     "duration": 0.068276,
     "end_time": "2024-09-12T08:35:15.059356",
     "exception": false,
     "start_time": "2024-09-12T08:35:14.991080",
     "status": "completed"
    },
    "tags": []
   },
   "outputs": [],
   "source": [
    "df1_filtered = df1[df1['TGL_SALES'].notna() & (df1['TGL_SALES'] !='')]\n",
    "df1_filtered_not = df1_filtered[~df1_filtered['TGL_SALES'].str.contains('generate', case=False)]"
   ]
  },
  {
   "cell_type": "code",
   "execution_count": 4,
   "id": "3f3b18eb-5def-4e99-8a33-894f60a5c47e",
   "metadata": {
    "execution": {
     "iopub.execute_input": "2024-09-12T08:35:15.063345Z",
     "iopub.status.busy": "2024-09-12T08:35:15.063345Z",
     "iopub.status.idle": "2024-09-12T08:35:15.070439Z",
     "shell.execute_reply": "2024-09-12T08:35:15.070439Z"
    },
    "papermill": {
     "duration": 0.010971,
     "end_time": "2024-09-12T08:35:15.072323",
     "exception": false,
     "start_time": "2024-09-12T08:35:15.061352",
     "status": "completed"
    },
    "tags": []
   },
   "outputs": [],
   "source": [
    "df2_filtered = df2[df2['TGL_SALES'].notna() & (df2['TGL_SALES'] !='')]\n",
    "df2_filtered_not = df2_filtered[~df2_filtered['TGL_SALES'].str.contains('generate', case=False)]"
   ]
  },
  {
   "cell_type": "code",
   "execution_count": 5,
   "id": "bc811b0b-277a-4219-8dac-c76013fe31ae",
   "metadata": {
    "execution": {
     "iopub.execute_input": "2024-09-12T08:35:15.075284Z",
     "iopub.status.busy": "2024-09-12T08:35:15.075284Z",
     "iopub.status.idle": "2024-09-12T08:35:15.080401Z",
     "shell.execute_reply": "2024-09-12T08:35:15.080401Z"
    },
    "papermill": {
     "duration": 0.008976,
     "end_time": "2024-09-12T08:35:15.082294",
     "exception": false,
     "start_time": "2024-09-12T08:35:15.073318",
     "status": "completed"
    },
    "tags": []
   },
   "outputs": [],
   "source": [
    "\n",
    "combined_df = pd.concat([df1_filtered_not,df2_filtered_not], ignore_index=True)\n"
   ]
  },
  {
   "cell_type": "code",
   "execution_count": 6,
   "id": "7ea550d0-66e8-47a6-8df2-2726fbb8d4f7",
   "metadata": {
    "execution": {
     "iopub.execute_input": "2024-09-12T08:35:15.085279Z",
     "iopub.status.busy": "2024-09-12T08:35:15.085279Z",
     "iopub.status.idle": "2024-09-12T08:35:19.659393Z",
     "shell.execute_reply": "2024-09-12T08:35:19.659393Z"
    },
    "papermill": {
     "duration": 4.578129,
     "end_time": "2024-09-12T08:35:19.661420",
     "exception": false,
     "start_time": "2024-09-12T08:35:15.083291",
     "status": "completed"
    },
    "tags": []
   },
   "outputs": [],
   "source": [
    "\n",
    "output_file_path =  r'G:\\Test Gci\\Gci YTD.xlsx'\n",
    "\n",
    "\n",
    "combined_df.to_excel(output_file_path, index=False)\n",
    "\n"
   ]
  },
  {
   "cell_type": "code",
   "execution_count": null,
   "id": "61f4ce1f-c30c-4b49-854f-e621aea31b28",
   "metadata": {
    "papermill": {
     "duration": 0.002001,
     "end_time": "2024-09-12T08:35:19.664409",
     "exception": false,
     "start_time": "2024-09-12T08:35:19.662408",
     "status": "completed"
    },
    "tags": []
   },
   "outputs": [],
   "source": []
  }
 ],
 "metadata": {
  "kernelspec": {
   "display_name": "Python 3 (ipykernel)",
   "language": "python",
   "name": "python3"
  },
  "language_info": {
   "codemirror_mode": {
    "name": "ipython",
    "version": 3
   },
   "file_extension": ".py",
   "mimetype": "text/x-python",
   "name": "python",
   "nbconvert_exporter": "python",
   "pygments_lexer": "ipython3",
   "version": "3.9.1"
  },
  "papermill": {
   "default_parameters": {},
   "duration": 22.660154,
   "end_time": "2024-09-12T08:35:20.277270",
   "environment_variables": {},
   "exception": null,
   "input_path": "C:\\Users\\rayza.rochmat\\PycharmProjects\\pythonProject\\GCI\\Test combine file GCI Sales.ipynb",
   "output_path": "C:\\Users\\rayza.rochmat\\PycharmProjects\\pythonProject\\GCI\\Test combine file GCI Sales Output.ipynb",
   "parameters": {},
   "start_time": "2024-09-12T08:34:57.617116",
   "version": "2.6.0"
  }
 },
 "nbformat": 4,
 "nbformat_minor": 5
}